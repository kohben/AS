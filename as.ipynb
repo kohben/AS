{
 "cells": [
  {
   "cell_type": "code",
   "execution_count": 1,
   "metadata": {
    "collapsed": false
   },
   "outputs": [
    {
     "data": {
      "text/plain": [
       "5305,069017137\t\n",
       "5123,8033866317\t\n",
       "4808,7992612293\t\n",
       "4376,5893339446\t\n",
       "3849,9747310072\t\n",
       "3256,9481047225\t\n",
       "2629,3694419817\t\n",
       "2001,4556057411\t\n",
       "1408,153246873\t\n",
       "883,47015543515\t\n",
       "id  approx   text\t\n",
       " 1   10,03  40,32\t\n",
       " 2   16,25  42,92\t\n",
       " 3   19,39  45,33\t\n",
       " 4   22,57  48,85\t\n",
       " 5   25,74  52,37\t\n",
       " 6   28,94  57,00\t\n",
       " 7   35,23  61,82\t\n",
       " 8   38,53  69,78\t\n",
       " 9   41,67  72,19\t\n",
       "10   51,09  79,42\t\n"
      ]
     },
     "execution_count": 1,
     "metadata": {},
     "output_type": "execute_result"
    }
   ],
   "source": [
    "\n",
    "\n",
    "require 'torch'\n",
    "require 'optim'\n",
    "require 'nn'\n",
    "\n",
    "\n",
    "\n",
    "--  {corn, fertilizer, insecticide}\n",
    "data = torch.Tensor{\n",
    "   {40,  6,  4},\n",
    "   {44, 10,  4},\n",
    "   {46, 12,  5},\n",
    "   {48, 14,  7},\n",
    "   {52, 16,  9},\n",
    "   {58, 18, 12},\n",
    "   {60, 22, 14},\n",
    "   {68, 24, 20},\n",
    "   {74, 26, 21},\n",
    "   {80, 32, 24}\n",
    "}\n",
    "\n",
    "\n",
    "ninputs = 2; noutputs = 1\n",
    "model = nn.Linear(ninputs, noutputs) -- define the only module\n",
    "\n",
    "\n",
    "criterion = nn.MSECriterion()\n",
    "\n",
    "\n",
    "\n",
    "x, y = {}, {}\n",
    "for i=1, data:size(1) do\n",
    "\tx[i] = torch.Tensor(2)\n",
    "\ty[i] = torch.Tensor(1)\n",
    "\ty[i][1] = data[i][1]\n",
    "\tx[i][1] = data[i][2]\n",
    "\tx[i][2] = data[i][3]\n",
    "end\n",
    "\n",
    "\n",
    "model:zeroGradParameters()\n",
    "y_chap = {}\n",
    "\n",
    "for h=1, 10 do\n",
    "for i=1, data:size(1) do\n",
    "\ty_chap[i] = model:forward(x[i])\n",
    "\tloss = criterion:forward(y_chap[i],y[i])\n",
    "\tdelta = criterion:backward(y_chap[i],y[i])\n",
    "\tmodel:backward(x[i],delta)\n",
    "\tmodel:updateParameters(0.0000001)\n",
    "end\n",
    "\tprint(loss)\n",
    "end\n",
    "\n",
    "text = {40.32, 42.92, 45.33, 48.85, 52.37, 57, 61.82, 69.78, 72.19, 79.42}\n",
    "\n",
    "print('id  approx   text')\n",
    "for i = 1,(#data)[1] do\n",
    "   local myPrediction = model:forward(data[i][{{2,3}}])\n",
    "   print(string.format(\"%2d  %6.2f %6.2f\", i, myPrediction[1], text[i]))\n",
    "end"
   ]
  },
  {
   "cell_type": "markdown",
   "metadata": {},
   "source": [
    "# TP2\n",
    "\n",
    "- Modèle inéaire\n",
    "- Kernel trick\n",
    "- Modèle non-linéaire"
   ]
  },
  {
   "cell_type": "code",
   "execution_count": 90,
   "metadata": {
    "collapsed": false
   },
   "outputs": [
    {
     "data": {
      "text/plain": [
       "true\t\n"
      ]
     },
     "execution_count": 90,
     "metadata": {},
     "output_type": "execute_result"
    }
   ],
   "source": [
    "require 'gnuplot'"
   ]
  },
  {
   "cell_type": "markdown",
   "metadata": {},
   "source": [
    "# Donnée\n"
   ]
  },
  {
   "cell_type": "code",
   "execution_count": 4,
   "metadata": {
    "collapsed": false
   },
   "outputs": [],
   "source": [
    "x, y = {}, {}\n",
    "for i=1, 10 do\n",
    "    y[i] = torch.Tensor(1)\n",
    "    y[i][1] = 1\n",
    "\n",
    "    x[i] = torch.Tensor(2)\n",
    "    x[i] = torch.randn(2)\n",
    "    x[i][1] = x[i][1]+4\n",
    "    x[i][2] = x[i][2]+7\n",
    "end\n",
    "\n",
    "for i=11, 20 do\n",
    "    y[i] = torch.Tensor(1)\n",
    "    y[i][1] = -1\n",
    "\n",
    "    x[i] = torch.Tensor(2)\n",
    "    x[i] = torch.randn(2)\n",
    "    x[i][1] = x[i][1]-4\n",
    "    x[i][2] = x[i][2]-7\n",
    "end"
   ]
  },
  {
   "cell_type": "markdown",
   "metadata": {
    "collapsed": true
   },
   "source": [
    "# Apprentissage"
   ]
  },
  {
   "cell_type": "code",
   "execution_count": 3,
   "metadata": {
    "collapsed": false
   },
   "outputs": [
    {
     "data": {
      "text/plain": [
       "0,23719739955609\t\n",
       "0,20153935595686\t\n",
       "0,20149160108016\t\n",
       "0,23706095469708\t\n",
       "0,045761129660148\t\n",
       "0,045745288638291\t\n",
       "0,017537070182403\t\n",
       "0,034744256617364\t\n",
       "0,034731662011418\t\n",
       "0,055425058689014\t\n",
       "0,20124884166321\t\n",
       "0,045646474639711\t\n",
       "0,017470328355375\t\n",
       "0,045620044588579\t\n",
       "0,21204978114339\t\n",
       "0,034618081873937\t\n",
       "0,23668044532797\t\n",
       "0,034581725499338\t\n",
       "0,16102545336582\t\n",
       "0,20094716149523\t\n",
       "0,20344904123384\t\n",
       "0,034499931548702\t\n",
       "0,055140239820491\t\n",
       "0,055121500491445\t\n",
       "0,23639752480945\t\n",
       "0,23635230422453\t\n",
       "0,055044706397181\t\n",
       "0,055025999535028\t\n",
       "0,045308701268852\t\n",
       "0,054990201606705\t\n",
       "0,03434975118345\t\n",
       "0,045261956899036\t\n",
       "0,16060183072854\t\n",
       "0,13365476929944\t\n",
       "0,23606236618256\t\n",
       "0,045172156697503\t\n",
       "0,21127168641617\t\n",
       "0,13351462718259\t\n",
       "0,20281835862663\t\n",
       "0,23585964140935\t\n",
       "0,045052949630138\t\n",
       "0,16028087153096\t\n",
       "0,20011038191095\t\n",
       "0,13329824972747\t\n",
       "0,2025694585511\t\n",
       "0,23561677960778\t\n",
       "0,054571176573841\t\n",
       "0,19990017684159\t\n",
       "0,016956065967128\t\n",
       "0,13310011593331\t\n",
       "0,15996716408662\t\n",
       "0,21065977170086\t\n",
       "0,01689937047369\t\n",
       "0,033901408633275\t\n",
       "0,033889119555185\t\n",
       "0,2352891716386\t\n",
       "0,19959572326732\t\n",
       "0,044691550088098\t\n",
       "0,15972535590168\t\n",
       "0,19948146236913\t\n",
       "0,21033705117833\t\n",
       "0,21028886461924\t\n",
       "0,13266854201041\t\n",
       "0,19929816059985\t\n",
       "0,13259263514056\t\n",
       "0,033659306291424\t\n",
       "0,23484790969944\t\n",
       "0,033623720565779\t\n",
       "0,20166352200571\t\n",
       "0,15933044719767\t\n",
       "0,1592935575679\t\n",
       "0,033545754179574\t\n",
       "0,19896705225568\t\n",
       "0,15919512372023\t\n",
       "0,20142391527967\t\n",
       "0,20137656679301\t\n",
       "0,15907730716969\t\n",
       "0,2012887646287\t\n",
       "0,19869750304858\t\n",
       "0,044179111641946\t\n",
       "0,20951861716999\t\n",
       "0,044137294877163\t\n",
       "0,13198303218334\t\n",
       "0,053681050780625\t\n",
       "0,13192262651724\t\n",
       "0,044059296595623\t\n",
       "0,20930668738065\t\n",
       "0,13182368944101\t\n",
       "0,053566413831773\t\n",
       "0,13176336843746\t\n",
       "0,13172830138393\t\n",
       "0,19821697289806\t\n",
       "0,016312903961979\t\n",
       "0,15852214046157\t\n",
       "0,20065473511822\t\n",
       "0,043846017529336\t\n",
       "0,15842154706394\t\n",
       "0,20888676761036\t\n",
       "0,043780901640797\t\n",
       "0,20881254489064\t\n"
      ]
     },
     "execution_count": 3,
     "metadata": {},
     "output_type": "execute_result"
    }
   ],
   "source": [
    "\n",
    "ninputs = 2; noutputs = 1\n",
    "model = nn.Linear(ninputs, noutputs) -- define the only module\n",
    "\n",
    "\n",
    "criterion = nn.MSECriterion()\n",
    "model:zeroGradParameters()\n",
    "y_chap = {}\n",
    "\n",
    "for h=1, 10 do\n",
    "for i=1, 10 do\n",
    "    local idx = math.random(10)\n",
    "    model:zeroGradParameters()\n",
    "\ty_chap[idx] = model:forward(x[idx])\n",
    "\tlocal loss = criterion:forward(y_chap[idx],y[idx])\n",
    "\tlocal delta = criterion:backward(y_chap[idx],y[idx])\n",
    "\tmodel:backward(x[idx],delta)\n",
    "\tmodel:updateParameters(0.000001)\n",
    "    if i - math.floor(i/10)*10 then\n",
    "        print(loss)\n",
    "    end\n",
    "end\n",
    "end"
   ]
  },
  {
   "cell_type": "markdown",
   "metadata": {},
   "source": [
    "# Visualisation des prédictions"
   ]
  },
  {
   "cell_type": "code",
   "execution_count": 87,
   "metadata": {
    "collapsed": false
   },
   "outputs": [],
   "source": [
    "local MIN = -10\n",
    "local MAX = 10\n",
    "local S = 100\n",
    "local step = (MAX-MIN)/S\n",
    "mat = torch.Tensor(S,S)\n",
    "\n",
    "for x=1,100 do\n",
    "    for y=1,100 do\n",
    "        local input = torch.Tensor(2)\n",
    "        input[1]= (x-1)*step+MIN\n",
    "        input[2]=(y-1)*step+MIN\n",
    "        local output = model:forward(input)\n",
    "        mat[x][y] = output[1]\n",
    "    end\n",
    "end"
   ]
  },
  {
   "cell_type": "code",
   "execution_count": 88,
   "metadata": {
    "collapsed": false
   },
   "outputs": [
    {
     "data": {
      "text/plain": [
       "\n"
      ]
     },
     "execution_count": 88,
     "metadata": {},
     "output_type": "execute_result"
    }
   ],
   "source": [
    "gnuplot.imagesc(mat)"
   ]
  },
  {
   "cell_type": "code",
   "execution_count": null,
   "metadata": {
    "collapsed": true
   },
   "outputs": [],
   "source": []
  },
  {
   "cell_type": "code",
   "execution_count": null,
   "metadata": {
    "collapsed": true
   },
   "outputs": [],
   "source": []
  }
 ],
 "metadata": {
  "kernelspec": {
   "display_name": "iTorch",
   "language": "lua",
   "name": "itorch"
  },
  "language_info": {
   "name": "lua",
   "version": "20100"
  }
 },
 "nbformat": 4,
 "nbformat_minor": 0
}
